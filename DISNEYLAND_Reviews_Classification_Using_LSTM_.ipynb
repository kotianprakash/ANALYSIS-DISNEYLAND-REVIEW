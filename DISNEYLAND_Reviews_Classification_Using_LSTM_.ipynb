{
  "nbformat": 4,
  "nbformat_minor": 0,
  "metadata": {
    "colab": {
      "provenance": []
    },
    "kernelspec": {
      "name": "python3",
      "display_name": "Python 3"
    },
    "language_info": {
      "name": "python"
    },
    "accelerator": "GPU",
    "gpuClass": "standard"
  },
  "cells": [
    {
      "cell_type": "code",
      "source": [
        "import locale\n",
        "locale.getpreferredencoding = lambda: \"UTF-8\""
      ],
      "metadata": {
        "id": "smtpF5G7RHqz"
      },
      "execution_count": 1,
      "outputs": []
    },
    {
      "cell_type": "code",
      "source": [
        "pip install Unidecode"
      ],
      "metadata": {
        "id": "UL8FPAJFQy8t",
        "outputId": "528e1fee-3c0b-4bc9-c427-f5de28e4e2ae",
        "colab": {
          "base_uri": "https://localhost:8080/"
        }
      },
      "execution_count": 2,
      "outputs": [
        {
          "output_type": "stream",
          "name": "stdout",
          "text": [
            "Looking in indexes: https://pypi.org/simple, https://us-python.pkg.dev/colab-wheels/public/simple/\n",
            "Collecting Unidecode\n",
            "  Downloading Unidecode-1.3.6-py3-none-any.whl (235 kB)\n",
            "\u001b[?25l     \u001b[90m━━━━━━━━━━━━━━━━━━━━━━━━━━━━━━━━━━━━━━━━\u001b[0m \u001b[32m0.0/235.9 KB\u001b[0m \u001b[31m?\u001b[0m eta \u001b[36m-:--:--\u001b[0m\r\u001b[2K     \u001b[90m━━━━━━━━━━━━━━━━━━━━━━━━━━━━━━━━━━━━━━━\u001b[0m \u001b[32m235.9/235.9 KB\u001b[0m \u001b[31m7.3 MB/s\u001b[0m eta \u001b[36m0:00:00\u001b[0m\n",
            "\u001b[?25hInstalling collected packages: Unidecode\n",
            "Successfully installed Unidecode-1.3.6\n"
          ]
        }
      ]
    },
    {
      "cell_type": "code",
      "source": [
        "pip install contractions"
      ],
      "metadata": {
        "id": "oIgs7ObFRdQv",
        "outputId": "2fa15259-2198-4057-ce9b-e709b6050d94",
        "colab": {
          "base_uri": "https://localhost:8080/"
        }
      },
      "execution_count": 3,
      "outputs": [
        {
          "output_type": "stream",
          "name": "stdout",
          "text": [
            "Looking in indexes: https://pypi.org/simple, https://us-python.pkg.dev/colab-wheels/public/simple/\n",
            "Collecting contractions\n",
            "  Downloading contractions-0.1.73-py2.py3-none-any.whl (8.7 kB)\n",
            "Collecting textsearch>=0.0.21\n",
            "  Downloading textsearch-0.0.24-py2.py3-none-any.whl (7.6 kB)\n",
            "Collecting anyascii\n",
            "  Downloading anyascii-0.3.2-py3-none-any.whl (289 kB)\n",
            "\u001b[2K     \u001b[90m━━━━━━━━━━━━━━━━━━━━━━━━━━━━━━━━━━━━━━━\u001b[0m \u001b[32m289.9/289.9 KB\u001b[0m \u001b[31m7.4 MB/s\u001b[0m eta \u001b[36m0:00:00\u001b[0m\n",
            "\u001b[?25hCollecting pyahocorasick\n",
            "  Downloading pyahocorasick-2.0.0-cp39-cp39-manylinux_2_5_x86_64.manylinux1_x86_64.whl (103 kB)\n",
            "\u001b[2K     \u001b[90m━━━━━━━━━━━━━━━━━━━━━━━━━━━━━━━━━━━━━━\u001b[0m \u001b[32m103.2/103.2 KB\u001b[0m \u001b[31m13.6 MB/s\u001b[0m eta \u001b[36m0:00:00\u001b[0m\n",
            "\u001b[?25hInstalling collected packages: pyahocorasick, anyascii, textsearch, contractions\n",
            "Successfully installed anyascii-0.3.2 contractions-0.1.73 pyahocorasick-2.0.0 textsearch-0.0.24\n"
          ]
        }
      ]
    },
    {
      "cell_type": "code",
      "source": [
        "import nltk\n",
        "nltk.download('wordnet')"
      ],
      "metadata": {
        "id": "gJP7DoWMSEOl",
        "outputId": "a8424e73-c1d8-4f25-ec18-92a6f83ba304",
        "colab": {
          "base_uri": "https://localhost:8080/"
        }
      },
      "execution_count": 4,
      "outputs": [
        {
          "output_type": "stream",
          "name": "stderr",
          "text": [
            "[nltk_data] Downloading package wordnet to /root/nltk_data...\n"
          ]
        },
        {
          "output_type": "execute_result",
          "data": {
            "text/plain": [
              "True"
            ]
          },
          "metadata": {},
          "execution_count": 4
        }
      ]
    },
    {
      "cell_type": "code",
      "source": [
        "import tensorflow as tf\n",
        "from tensorflow.keras.preprocessing.text import Tokenizer\n",
        "from tensorflow.keras.preprocessing.sequence import pad_sequences\n",
        "from tensorflow.keras.callbacks import EarlyStopping\n",
        "# Modeling\n",
        "from tensorflow.keras.models import Sequential\n",
        "import spacy\n",
        "from bs4 import BeautifulSoup\n",
        "import regex as re\n",
        "import unidecode\n",
        "import contractions\n",
        "from wordcloud import WordCloud, STOPWORDS, ImageColorGenerator\n",
        "\n",
        "from tensorflow.keras.layers import LSTM, GRU, Dense, Embedding, Dropout, GlobalAveragePooling1D, Flatten, SpatialDropout1D, Bidirectional"
      ],
      "metadata": {
        "id": "FhriGiITOLC3"
      },
      "execution_count": 5,
      "outputs": []
    },
    {
      "cell_type": "code",
      "source": [
        "import os"
      ],
      "metadata": {
        "id": "FJgl5c9xoryu"
      },
      "execution_count": 6,
      "outputs": []
    },
    {
      "cell_type": "code",
      "source": [
        "import pandas as pd"
      ],
      "metadata": {
        "id": "JywLAkzEOXla"
      },
      "execution_count": 7,
      "outputs": []
    },
    {
      "cell_type": "code",
      "source": [
        "Disneyland = pd.read_csv(r\"/content/drive/MyDrive/capstone project /DisneylandReviews.csv\",encoding=\"unicode_escape\")\n",
        "Disneyland.head()"
      ],
      "metadata": {
        "colab": {
          "base_uri": "https://localhost:8080/",
          "height": 206
        },
        "id": "GfiGub7r5BeW",
        "outputId": "577ea2b6-6926-4bad-e008-78ed18b52126"
      },
      "execution_count": 8,
      "outputs": [
        {
          "output_type": "execute_result",
          "data": {
            "text/plain": [
              "   Review_ID  Rating Year_Month     Reviewer_Location  \\\n",
              "0  670772142       4     2019-4             Australia   \n",
              "1  670682799       4     2019-5           Philippines   \n",
              "2  670623270       4     2019-4  United Arab Emirates   \n",
              "3  670607911       4     2019-4             Australia   \n",
              "4  670607296       4     2019-4        United Kingdom   \n",
              "\n",
              "                                         Review_Text               Branch  \n",
              "0  If you've ever been to Disneyland anywhere you...  Disneyland_HongKong  \n",
              "1  Its been a while since d last time we visit HK...  Disneyland_HongKong  \n",
              "2  Thanks God it wasn   t too hot or too humid wh...  Disneyland_HongKong  \n",
              "3  HK Disneyland is a great compact park. Unfortu...  Disneyland_HongKong  \n",
              "4  the location is not in the city, took around 1...  Disneyland_HongKong  "
            ],
            "text/html": [
              "\n",
              "  <div id=\"df-388b5f7e-aaef-40e8-bef8-3c46c291b013\">\n",
              "    <div class=\"colab-df-container\">\n",
              "      <div>\n",
              "<style scoped>\n",
              "    .dataframe tbody tr th:only-of-type {\n",
              "        vertical-align: middle;\n",
              "    }\n",
              "\n",
              "    .dataframe tbody tr th {\n",
              "        vertical-align: top;\n",
              "    }\n",
              "\n",
              "    .dataframe thead th {\n",
              "        text-align: right;\n",
              "    }\n",
              "</style>\n",
              "<table border=\"1\" class=\"dataframe\">\n",
              "  <thead>\n",
              "    <tr style=\"text-align: right;\">\n",
              "      <th></th>\n",
              "      <th>Review_ID</th>\n",
              "      <th>Rating</th>\n",
              "      <th>Year_Month</th>\n",
              "      <th>Reviewer_Location</th>\n",
              "      <th>Review_Text</th>\n",
              "      <th>Branch</th>\n",
              "    </tr>\n",
              "  </thead>\n",
              "  <tbody>\n",
              "    <tr>\n",
              "      <th>0</th>\n",
              "      <td>670772142</td>\n",
              "      <td>4</td>\n",
              "      <td>2019-4</td>\n",
              "      <td>Australia</td>\n",
              "      <td>If you've ever been to Disneyland anywhere you...</td>\n",
              "      <td>Disneyland_HongKong</td>\n",
              "    </tr>\n",
              "    <tr>\n",
              "      <th>1</th>\n",
              "      <td>670682799</td>\n",
              "      <td>4</td>\n",
              "      <td>2019-5</td>\n",
              "      <td>Philippines</td>\n",
              "      <td>Its been a while since d last time we visit HK...</td>\n",
              "      <td>Disneyland_HongKong</td>\n",
              "    </tr>\n",
              "    <tr>\n",
              "      <th>2</th>\n",
              "      <td>670623270</td>\n",
              "      <td>4</td>\n",
              "      <td>2019-4</td>\n",
              "      <td>United Arab Emirates</td>\n",
              "      <td>Thanks God it wasn   t too hot or too humid wh...</td>\n",
              "      <td>Disneyland_HongKong</td>\n",
              "    </tr>\n",
              "    <tr>\n",
              "      <th>3</th>\n",
              "      <td>670607911</td>\n",
              "      <td>4</td>\n",
              "      <td>2019-4</td>\n",
              "      <td>Australia</td>\n",
              "      <td>HK Disneyland is a great compact park. Unfortu...</td>\n",
              "      <td>Disneyland_HongKong</td>\n",
              "    </tr>\n",
              "    <tr>\n",
              "      <th>4</th>\n",
              "      <td>670607296</td>\n",
              "      <td>4</td>\n",
              "      <td>2019-4</td>\n",
              "      <td>United Kingdom</td>\n",
              "      <td>the location is not in the city, took around 1...</td>\n",
              "      <td>Disneyland_HongKong</td>\n",
              "    </tr>\n",
              "  </tbody>\n",
              "</table>\n",
              "</div>\n",
              "      <button class=\"colab-df-convert\" onclick=\"convertToInteractive('df-388b5f7e-aaef-40e8-bef8-3c46c291b013')\"\n",
              "              title=\"Convert this dataframe to an interactive table.\"\n",
              "              style=\"display:none;\">\n",
              "        \n",
              "  <svg xmlns=\"http://www.w3.org/2000/svg\" height=\"24px\"viewBox=\"0 0 24 24\"\n",
              "       width=\"24px\">\n",
              "    <path d=\"M0 0h24v24H0V0z\" fill=\"none\"/>\n",
              "    <path d=\"M18.56 5.44l.94 2.06.94-2.06 2.06-.94-2.06-.94-.94-2.06-.94 2.06-2.06.94zm-11 1L8.5 8.5l.94-2.06 2.06-.94-2.06-.94L8.5 2.5l-.94 2.06-2.06.94zm10 10l.94 2.06.94-2.06 2.06-.94-2.06-.94-.94-2.06-.94 2.06-2.06.94z\"/><path d=\"M17.41 7.96l-1.37-1.37c-.4-.4-.92-.59-1.43-.59-.52 0-1.04.2-1.43.59L10.3 9.45l-7.72 7.72c-.78.78-.78 2.05 0 2.83L4 21.41c.39.39.9.59 1.41.59.51 0 1.02-.2 1.41-.59l7.78-7.78 2.81-2.81c.8-.78.8-2.07 0-2.86zM5.41 20L4 18.59l7.72-7.72 1.47 1.35L5.41 20z\"/>\n",
              "  </svg>\n",
              "      </button>\n",
              "      \n",
              "  <style>\n",
              "    .colab-df-container {\n",
              "      display:flex;\n",
              "      flex-wrap:wrap;\n",
              "      gap: 12px;\n",
              "    }\n",
              "\n",
              "    .colab-df-convert {\n",
              "      background-color: #E8F0FE;\n",
              "      border: none;\n",
              "      border-radius: 50%;\n",
              "      cursor: pointer;\n",
              "      display: none;\n",
              "      fill: #1967D2;\n",
              "      height: 32px;\n",
              "      padding: 0 0 0 0;\n",
              "      width: 32px;\n",
              "    }\n",
              "\n",
              "    .colab-df-convert:hover {\n",
              "      background-color: #E2EBFA;\n",
              "      box-shadow: 0px 1px 2px rgba(60, 64, 67, 0.3), 0px 1px 3px 1px rgba(60, 64, 67, 0.15);\n",
              "      fill: #174EA6;\n",
              "    }\n",
              "\n",
              "    [theme=dark] .colab-df-convert {\n",
              "      background-color: #3B4455;\n",
              "      fill: #D2E3FC;\n",
              "    }\n",
              "\n",
              "    [theme=dark] .colab-df-convert:hover {\n",
              "      background-color: #434B5C;\n",
              "      box-shadow: 0px 1px 3px 1px rgba(0, 0, 0, 0.15);\n",
              "      filter: drop-shadow(0px 1px 2px rgba(0, 0, 0, 0.3));\n",
              "      fill: #FFFFFF;\n",
              "    }\n",
              "  </style>\n",
              "\n",
              "      <script>\n",
              "        const buttonEl =\n",
              "          document.querySelector('#df-388b5f7e-aaef-40e8-bef8-3c46c291b013 button.colab-df-convert');\n",
              "        buttonEl.style.display =\n",
              "          google.colab.kernel.accessAllowed ? 'block' : 'none';\n",
              "\n",
              "        async function convertToInteractive(key) {\n",
              "          const element = document.querySelector('#df-388b5f7e-aaef-40e8-bef8-3c46c291b013');\n",
              "          const dataTable =\n",
              "            await google.colab.kernel.invokeFunction('convertToInteractive',\n",
              "                                                     [key], {});\n",
              "          if (!dataTable) return;\n",
              "\n",
              "          const docLinkHtml = 'Like what you see? Visit the ' +\n",
              "            '<a target=\"_blank\" href=https://colab.research.google.com/notebooks/data_table.ipynb>data table notebook</a>'\n",
              "            + ' to learn more about interactive tables.';\n",
              "          element.innerHTML = '';\n",
              "          dataTable['output_type'] = 'display_data';\n",
              "          await google.colab.output.renderOutput(dataTable, element);\n",
              "          const docLink = document.createElement('div');\n",
              "          docLink.innerHTML = docLinkHtml;\n",
              "          element.appendChild(docLink);\n",
              "        }\n",
              "      </script>\n",
              "    </div>\n",
              "  </div>\n",
              "  "
            ]
          },
          "metadata": {},
          "execution_count": 8
        }
      ]
    },
    {
      "cell_type": "code",
      "source": [
        "Disneyland.info()"
      ],
      "metadata": {
        "id": "r0JcUZxA5pO9",
        "outputId": "f935b503-ea0d-4992-be97-44c173865baa",
        "colab": {
          "base_uri": "https://localhost:8080/"
        }
      },
      "execution_count": 9,
      "outputs": [
        {
          "output_type": "stream",
          "name": "stdout",
          "text": [
            "<class 'pandas.core.frame.DataFrame'>\n",
            "RangeIndex: 42656 entries, 0 to 42655\n",
            "Data columns (total 6 columns):\n",
            " #   Column             Non-Null Count  Dtype \n",
            "---  ------             --------------  ----- \n",
            " 0   Review_ID          42656 non-null  int64 \n",
            " 1   Rating             42656 non-null  int64 \n",
            " 2   Year_Month         42656 non-null  object\n",
            " 3   Reviewer_Location  42656 non-null  object\n",
            " 4   Review_Text        42656 non-null  object\n",
            " 5   Branch             42656 non-null  object\n",
            "dtypes: int64(2), object(4)\n",
            "memory usage: 2.0+ MB\n"
          ]
        }
      ]
    },
    {
      "cell_type": "code",
      "source": [],
      "metadata": {
        "id": "Ej_1Urw97dCP"
      },
      "execution_count": 9,
      "outputs": []
    },
    {
      "cell_type": "code",
      "source": [
        "nlp = spacy.load('en_core_web_sm')"
      ],
      "metadata": {
        "id": "IIIFYj0jOl_X"
      },
      "execution_count": 10,
      "outputs": []
    },
    {
      "cell_type": "code",
      "source": [
        "from nltk.stem import WordNetLemmatizer\n",
        "\n",
        "\n"
      ],
      "metadata": {
        "id": "SmAmFsovPYy7"
      },
      "execution_count": 11,
      "outputs": []
    },
    {
      "cell_type": "code",
      "source": [
        "def strip_html_tags(text):\n",
        "    \"\"\"remove html tags from text\"\"\"\n",
        "    soup = BeautifulSoup(text, \"html.parser\")\n",
        "    stripped_text = soup.get_text(separator=\"\")\n",
        "    return stripped_text\n",
        "\n",
        "\n",
        "def remov_stopwords(text):\n",
        "    stopwords = set(STOPWORDS)\n",
        "    text = text.replace(str(stopwords),\"\")\n",
        "    return text\n",
        "\n",
        "def remove_whitespace(text):\n",
        "    \"\"\"remove extra whitespaces from text\"\"\"\n",
        "    text = text.strip()\n",
        "    return \" \".join(text.split())\n",
        "\n",
        "\n",
        "\n",
        "def remove_accented_chars(text):\n",
        "    \"\"\"remove accented characters from text, e.g. café\"\"\"\n",
        "    text = unidecode.unidecode(text)\n",
        "    return text\n",
        "\n",
        "\n",
        "\n",
        "\n",
        "def expand_contractions(text):\n",
        "    \"\"\"expand shortened words, e.g. don't to do not\"\"\"\n",
        "    text = contractions.fix(text)\n",
        "    return text\n",
        "\n",
        "\n",
        "lemmatizer = WordNetLemmatizer()\n",
        "def lem (text):\n",
        "    text = lemmatizer.lemmatize(text)\n",
        "    return text\n",
        "\n",
        "\n",
        "pattern = r'[0-9]'\n",
        "def remove_num(text):\n",
        "    text = re.sub(pattern, '', text)\n",
        "    return text\n",
        "\n"
      ],
      "metadata": {
        "id": "83uKfhNoOpbU"
      },
      "execution_count": 12,
      "outputs": []
    },
    {
      "cell_type": "code",
      "source": [
        "def text_preprocessing(text):\n",
        "    \"\"\"preprocess text with default option set to true for all steps\"\"\"\n",
        "    text = remove_num(text)\n",
        "\n",
        "    text = strip_html_tags(text)\n",
        "    \n",
        "    text = remove_whitespace(text)\n",
        "    \n",
        "    text = remove_accented_chars(text)\n",
        "    \n",
        "    text = expand_contractions(text)\n",
        "    \n",
        "    text = lem(text)\n",
        "    \n",
        "    text = remov_stopwords(text)\n",
        "\n",
        "    #text = text.lower()\n",
        "  \n",
        "    return text"
      ],
      "metadata": {
        "id": "FNGm2d1KPGQW"
      },
      "execution_count": 13,
      "outputs": []
    },
    {
      "cell_type": "code",
      "source": [
        "# labeling the data by utilizing the Rating column\n",
        "rating = Disneyland[\"Rating\"]\n",
        "def label_func(rating):\n",
        "    if rating >=4:\n",
        "        return \"Positive\"\n",
        "    elif rating == 3:\n",
        "            return \"Neutral\"\n",
        "    else:\n",
        "        return \"Negative\"\n",
        "        \n",
        "Disneyland[\"Sentiment\"] = Disneyland[\"Rating\"].apply(lambda x: label_func(x)) "
      ],
      "metadata": {
        "id": "zValkgKPQHQZ"
      },
      "execution_count": 14,
      "outputs": []
    },
    {
      "cell_type": "code",
      "source": [
        "df_main = Disneyland.copy()"
      ],
      "metadata": {
        "id": "TFe2RRrYP2Wt"
      },
      "execution_count": 15,
      "outputs": []
    },
    {
      "cell_type": "code",
      "source": [
        "# subsetting the main dataframe to get only review text and sentiment columns\n",
        "df_main_class = df_main[[\"Review_Text\",\"Sentiment\"]]"
      ],
      "metadata": {
        "id": "SOzQN_OuPnr1"
      },
      "execution_count": 16,
      "outputs": []
    },
    {
      "cell_type": "code",
      "source": [
        "# Before the text processing\n",
        "df_main_class"
      ],
      "metadata": {
        "id": "H5ypaASzPrxF",
        "outputId": "fe2819c6-3e05-4d15-b665-991efd5378c5",
        "colab": {
          "base_uri": "https://localhost:8080/",
          "height": 424
        }
      },
      "execution_count": 17,
      "outputs": [
        {
          "output_type": "execute_result",
          "data": {
            "text/plain": [
              "                                             Review_Text Sentiment\n",
              "0      If you've ever been to Disneyland anywhere you...  Positive\n",
              "1      Its been a while since d last time we visit HK...  Positive\n",
              "2      Thanks God it wasn   t too hot or too humid wh...  Positive\n",
              "3      HK Disneyland is a great compact park. Unfortu...  Positive\n",
              "4      the location is not in the city, took around 1...  Positive\n",
              "...                                                  ...       ...\n",
              "42651  i went to disneyland paris in july 03 and thou...  Positive\n",
              "42652  2 adults and 1 child of 11 visited Disneyland ...  Positive\n",
              "42653  My eleven year old daughter and myself went to...  Positive\n",
              "42654  This hotel, part of the Disneyland Paris compl...  Positive\n",
              "42655  I went to the Disneyparis resort, in 1996, wit...  Positive\n",
              "\n",
              "[42656 rows x 2 columns]"
            ],
            "text/html": [
              "\n",
              "  <div id=\"df-d5996628-a498-475d-b7ce-69a3b2618685\">\n",
              "    <div class=\"colab-df-container\">\n",
              "      <div>\n",
              "<style scoped>\n",
              "    .dataframe tbody tr th:only-of-type {\n",
              "        vertical-align: middle;\n",
              "    }\n",
              "\n",
              "    .dataframe tbody tr th {\n",
              "        vertical-align: top;\n",
              "    }\n",
              "\n",
              "    .dataframe thead th {\n",
              "        text-align: right;\n",
              "    }\n",
              "</style>\n",
              "<table border=\"1\" class=\"dataframe\">\n",
              "  <thead>\n",
              "    <tr style=\"text-align: right;\">\n",
              "      <th></th>\n",
              "      <th>Review_Text</th>\n",
              "      <th>Sentiment</th>\n",
              "    </tr>\n",
              "  </thead>\n",
              "  <tbody>\n",
              "    <tr>\n",
              "      <th>0</th>\n",
              "      <td>If you've ever been to Disneyland anywhere you...</td>\n",
              "      <td>Positive</td>\n",
              "    </tr>\n",
              "    <tr>\n",
              "      <th>1</th>\n",
              "      <td>Its been a while since d last time we visit HK...</td>\n",
              "      <td>Positive</td>\n",
              "    </tr>\n",
              "    <tr>\n",
              "      <th>2</th>\n",
              "      <td>Thanks God it wasn   t too hot or too humid wh...</td>\n",
              "      <td>Positive</td>\n",
              "    </tr>\n",
              "    <tr>\n",
              "      <th>3</th>\n",
              "      <td>HK Disneyland is a great compact park. Unfortu...</td>\n",
              "      <td>Positive</td>\n",
              "    </tr>\n",
              "    <tr>\n",
              "      <th>4</th>\n",
              "      <td>the location is not in the city, took around 1...</td>\n",
              "      <td>Positive</td>\n",
              "    </tr>\n",
              "    <tr>\n",
              "      <th>...</th>\n",
              "      <td>...</td>\n",
              "      <td>...</td>\n",
              "    </tr>\n",
              "    <tr>\n",
              "      <th>42651</th>\n",
              "      <td>i went to disneyland paris in july 03 and thou...</td>\n",
              "      <td>Positive</td>\n",
              "    </tr>\n",
              "    <tr>\n",
              "      <th>42652</th>\n",
              "      <td>2 adults and 1 child of 11 visited Disneyland ...</td>\n",
              "      <td>Positive</td>\n",
              "    </tr>\n",
              "    <tr>\n",
              "      <th>42653</th>\n",
              "      <td>My eleven year old daughter and myself went to...</td>\n",
              "      <td>Positive</td>\n",
              "    </tr>\n",
              "    <tr>\n",
              "      <th>42654</th>\n",
              "      <td>This hotel, part of the Disneyland Paris compl...</td>\n",
              "      <td>Positive</td>\n",
              "    </tr>\n",
              "    <tr>\n",
              "      <th>42655</th>\n",
              "      <td>I went to the Disneyparis resort, in 1996, wit...</td>\n",
              "      <td>Positive</td>\n",
              "    </tr>\n",
              "  </tbody>\n",
              "</table>\n",
              "<p>42656 rows × 2 columns</p>\n",
              "</div>\n",
              "      <button class=\"colab-df-convert\" onclick=\"convertToInteractive('df-d5996628-a498-475d-b7ce-69a3b2618685')\"\n",
              "              title=\"Convert this dataframe to an interactive table.\"\n",
              "              style=\"display:none;\">\n",
              "        \n",
              "  <svg xmlns=\"http://www.w3.org/2000/svg\" height=\"24px\"viewBox=\"0 0 24 24\"\n",
              "       width=\"24px\">\n",
              "    <path d=\"M0 0h24v24H0V0z\" fill=\"none\"/>\n",
              "    <path d=\"M18.56 5.44l.94 2.06.94-2.06 2.06-.94-2.06-.94-.94-2.06-.94 2.06-2.06.94zm-11 1L8.5 8.5l.94-2.06 2.06-.94-2.06-.94L8.5 2.5l-.94 2.06-2.06.94zm10 10l.94 2.06.94-2.06 2.06-.94-2.06-.94-.94-2.06-.94 2.06-2.06.94z\"/><path d=\"M17.41 7.96l-1.37-1.37c-.4-.4-.92-.59-1.43-.59-.52 0-1.04.2-1.43.59L10.3 9.45l-7.72 7.72c-.78.78-.78 2.05 0 2.83L4 21.41c.39.39.9.59 1.41.59.51 0 1.02-.2 1.41-.59l7.78-7.78 2.81-2.81c.8-.78.8-2.07 0-2.86zM5.41 20L4 18.59l7.72-7.72 1.47 1.35L5.41 20z\"/>\n",
              "  </svg>\n",
              "      </button>\n",
              "      \n",
              "  <style>\n",
              "    .colab-df-container {\n",
              "      display:flex;\n",
              "      flex-wrap:wrap;\n",
              "      gap: 12px;\n",
              "    }\n",
              "\n",
              "    .colab-df-convert {\n",
              "      background-color: #E8F0FE;\n",
              "      border: none;\n",
              "      border-radius: 50%;\n",
              "      cursor: pointer;\n",
              "      display: none;\n",
              "      fill: #1967D2;\n",
              "      height: 32px;\n",
              "      padding: 0 0 0 0;\n",
              "      width: 32px;\n",
              "    }\n",
              "\n",
              "    .colab-df-convert:hover {\n",
              "      background-color: #E2EBFA;\n",
              "      box-shadow: 0px 1px 2px rgba(60, 64, 67, 0.3), 0px 1px 3px 1px rgba(60, 64, 67, 0.15);\n",
              "      fill: #174EA6;\n",
              "    }\n",
              "\n",
              "    [theme=dark] .colab-df-convert {\n",
              "      background-color: #3B4455;\n",
              "      fill: #D2E3FC;\n",
              "    }\n",
              "\n",
              "    [theme=dark] .colab-df-convert:hover {\n",
              "      background-color: #434B5C;\n",
              "      box-shadow: 0px 1px 3px 1px rgba(0, 0, 0, 0.15);\n",
              "      filter: drop-shadow(0px 1px 2px rgba(0, 0, 0, 0.3));\n",
              "      fill: #FFFFFF;\n",
              "    }\n",
              "  </style>\n",
              "\n",
              "      <script>\n",
              "        const buttonEl =\n",
              "          document.querySelector('#df-d5996628-a498-475d-b7ce-69a3b2618685 button.colab-df-convert');\n",
              "        buttonEl.style.display =\n",
              "          google.colab.kernel.accessAllowed ? 'block' : 'none';\n",
              "\n",
              "        async function convertToInteractive(key) {\n",
              "          const element = document.querySelector('#df-d5996628-a498-475d-b7ce-69a3b2618685');\n",
              "          const dataTable =\n",
              "            await google.colab.kernel.invokeFunction('convertToInteractive',\n",
              "                                                     [key], {});\n",
              "          if (!dataTable) return;\n",
              "\n",
              "          const docLinkHtml = 'Like what you see? Visit the ' +\n",
              "            '<a target=\"_blank\" href=https://colab.research.google.com/notebooks/data_table.ipynb>data table notebook</a>'\n",
              "            + ' to learn more about interactive tables.';\n",
              "          element.innerHTML = '';\n",
              "          dataTable['output_type'] = 'display_data';\n",
              "          await google.colab.output.renderOutput(dataTable, element);\n",
              "          const docLink = document.createElement('div');\n",
              "          docLink.innerHTML = docLinkHtml;\n",
              "          element.appendChild(docLink);\n",
              "        }\n",
              "      </script>\n",
              "    </div>\n",
              "  </div>\n",
              "  "
            ]
          },
          "metadata": {},
          "execution_count": 17
        }
      ]
    },
    {
      "cell_type": "code",
      "source": [
        "#Apply the text processing to all of the rows in Review_text column\n",
        "df_main_class[\"Review_Text\"]= df_main_class[\"Review_Text\"].apply(lambda x: text_preprocessing(x))"
      ],
      "metadata": {
        "id": "7QKhDJu9QPJ4",
        "outputId": "93a844da-a65b-4c18-88ef-9986eb331a8e",
        "colab": {
          "base_uri": "https://localhost:8080/"
        }
      },
      "execution_count": 18,
      "outputs": [
        {
          "output_type": "stream",
          "name": "stderr",
          "text": [
            "<ipython-input-18-8cca00a2a6d6>:2: SettingWithCopyWarning: \n",
            "A value is trying to be set on a copy of a slice from a DataFrame.\n",
            "Try using .loc[row_indexer,col_indexer] = value instead\n",
            "\n",
            "See the caveats in the documentation: https://pandas.pydata.org/pandas-docs/stable/user_guide/indexing.html#returning-a-view-versus-a-copy\n",
            "  df_main_class[\"Review_Text\"]= df_main_class[\"Review_Text\"].apply(lambda x: text_preprocessing(x))\n"
          ]
        }
      ]
    },
    {
      "cell_type": "code",
      "source": [
        "# After the text processing\n",
        "df_main_class.head()\n"
      ],
      "metadata": {
        "id": "DqRUA_mvQTGk",
        "outputId": "38b81757-6643-4f30-f914-799f66091e1b",
        "colab": {
          "base_uri": "https://localhost:8080/",
          "height": 206
        }
      },
      "execution_count": 19,
      "outputs": [
        {
          "output_type": "execute_result",
          "data": {
            "text/plain": [
              "                                         Review_Text Sentiment\n",
              "0  If you have ever been to Disneyland anywhere y...  Positive\n",
              "1  Its been a while since d last time we visit HK...  Positive\n",
              "2  Thanks God it wasn t too hot or too humid when...  Positive\n",
              "3  HK Disneyland is a great compact park. Unfortu...  Positive\n",
              "4  the location is not in the city, took around h...  Positive"
            ],
            "text/html": [
              "\n",
              "  <div id=\"df-084f5e30-b53b-40d6-98f9-4d58df7a681c\">\n",
              "    <div class=\"colab-df-container\">\n",
              "      <div>\n",
              "<style scoped>\n",
              "    .dataframe tbody tr th:only-of-type {\n",
              "        vertical-align: middle;\n",
              "    }\n",
              "\n",
              "    .dataframe tbody tr th {\n",
              "        vertical-align: top;\n",
              "    }\n",
              "\n",
              "    .dataframe thead th {\n",
              "        text-align: right;\n",
              "    }\n",
              "</style>\n",
              "<table border=\"1\" class=\"dataframe\">\n",
              "  <thead>\n",
              "    <tr style=\"text-align: right;\">\n",
              "      <th></th>\n",
              "      <th>Review_Text</th>\n",
              "      <th>Sentiment</th>\n",
              "    </tr>\n",
              "  </thead>\n",
              "  <tbody>\n",
              "    <tr>\n",
              "      <th>0</th>\n",
              "      <td>If you have ever been to Disneyland anywhere y...</td>\n",
              "      <td>Positive</td>\n",
              "    </tr>\n",
              "    <tr>\n",
              "      <th>1</th>\n",
              "      <td>Its been a while since d last time we visit HK...</td>\n",
              "      <td>Positive</td>\n",
              "    </tr>\n",
              "    <tr>\n",
              "      <th>2</th>\n",
              "      <td>Thanks God it wasn t too hot or too humid when...</td>\n",
              "      <td>Positive</td>\n",
              "    </tr>\n",
              "    <tr>\n",
              "      <th>3</th>\n",
              "      <td>HK Disneyland is a great compact park. Unfortu...</td>\n",
              "      <td>Positive</td>\n",
              "    </tr>\n",
              "    <tr>\n",
              "      <th>4</th>\n",
              "      <td>the location is not in the city, took around h...</td>\n",
              "      <td>Positive</td>\n",
              "    </tr>\n",
              "  </tbody>\n",
              "</table>\n",
              "</div>\n",
              "      <button class=\"colab-df-convert\" onclick=\"convertToInteractive('df-084f5e30-b53b-40d6-98f9-4d58df7a681c')\"\n",
              "              title=\"Convert this dataframe to an interactive table.\"\n",
              "              style=\"display:none;\">\n",
              "        \n",
              "  <svg xmlns=\"http://www.w3.org/2000/svg\" height=\"24px\"viewBox=\"0 0 24 24\"\n",
              "       width=\"24px\">\n",
              "    <path d=\"M0 0h24v24H0V0z\" fill=\"none\"/>\n",
              "    <path d=\"M18.56 5.44l.94 2.06.94-2.06 2.06-.94-2.06-.94-.94-2.06-.94 2.06-2.06.94zm-11 1L8.5 8.5l.94-2.06 2.06-.94-2.06-.94L8.5 2.5l-.94 2.06-2.06.94zm10 10l.94 2.06.94-2.06 2.06-.94-2.06-.94-.94-2.06-.94 2.06-2.06.94z\"/><path d=\"M17.41 7.96l-1.37-1.37c-.4-.4-.92-.59-1.43-.59-.52 0-1.04.2-1.43.59L10.3 9.45l-7.72 7.72c-.78.78-.78 2.05 0 2.83L4 21.41c.39.39.9.59 1.41.59.51 0 1.02-.2 1.41-.59l7.78-7.78 2.81-2.81c.8-.78.8-2.07 0-2.86zM5.41 20L4 18.59l7.72-7.72 1.47 1.35L5.41 20z\"/>\n",
              "  </svg>\n",
              "      </button>\n",
              "      \n",
              "  <style>\n",
              "    .colab-df-container {\n",
              "      display:flex;\n",
              "      flex-wrap:wrap;\n",
              "      gap: 12px;\n",
              "    }\n",
              "\n",
              "    .colab-df-convert {\n",
              "      background-color: #E8F0FE;\n",
              "      border: none;\n",
              "      border-radius: 50%;\n",
              "      cursor: pointer;\n",
              "      display: none;\n",
              "      fill: #1967D2;\n",
              "      height: 32px;\n",
              "      padding: 0 0 0 0;\n",
              "      width: 32px;\n",
              "    }\n",
              "\n",
              "    .colab-df-convert:hover {\n",
              "      background-color: #E2EBFA;\n",
              "      box-shadow: 0px 1px 2px rgba(60, 64, 67, 0.3), 0px 1px 3px 1px rgba(60, 64, 67, 0.15);\n",
              "      fill: #174EA6;\n",
              "    }\n",
              "\n",
              "    [theme=dark] .colab-df-convert {\n",
              "      background-color: #3B4455;\n",
              "      fill: #D2E3FC;\n",
              "    }\n",
              "\n",
              "    [theme=dark] .colab-df-convert:hover {\n",
              "      background-color: #434B5C;\n",
              "      box-shadow: 0px 1px 3px 1px rgba(0, 0, 0, 0.15);\n",
              "      filter: drop-shadow(0px 1px 2px rgba(0, 0, 0, 0.3));\n",
              "      fill: #FFFFFF;\n",
              "    }\n",
              "  </style>\n",
              "\n",
              "      <script>\n",
              "        const buttonEl =\n",
              "          document.querySelector('#df-084f5e30-b53b-40d6-98f9-4d58df7a681c button.colab-df-convert');\n",
              "        buttonEl.style.display =\n",
              "          google.colab.kernel.accessAllowed ? 'block' : 'none';\n",
              "\n",
              "        async function convertToInteractive(key) {\n",
              "          const element = document.querySelector('#df-084f5e30-b53b-40d6-98f9-4d58df7a681c');\n",
              "          const dataTable =\n",
              "            await google.colab.kernel.invokeFunction('convertToInteractive',\n",
              "                                                     [key], {});\n",
              "          if (!dataTable) return;\n",
              "\n",
              "          const docLinkHtml = 'Like what you see? Visit the ' +\n",
              "            '<a target=\"_blank\" href=https://colab.research.google.com/notebooks/data_table.ipynb>data table notebook</a>'\n",
              "            + ' to learn more about interactive tables.';\n",
              "          element.innerHTML = '';\n",
              "          dataTable['output_type'] = 'display_data';\n",
              "          await google.colab.output.renderOutput(dataTable, element);\n",
              "          const docLink = document.createElement('div');\n",
              "          docLink.innerHTML = docLinkHtml;\n",
              "          element.appendChild(docLink);\n",
              "        }\n",
              "      </script>\n",
              "    </div>\n",
              "  </div>\n",
              "  "
            ]
          },
          "metadata": {},
          "execution_count": 19
        }
      ]
    },
    {
      "cell_type": "code",
      "source": [
        "# Get length column for each text\n",
        "df_main_class['text_lenght'] = df_main_class['Review_Text'].apply(len)"
      ],
      "metadata": {
        "id": "UveRTESKShbE",
        "outputId": "69f256e3-2372-4bde-f1ca-86e88d335c08",
        "colab": {
          "base_uri": "https://localhost:8080/"
        }
      },
      "execution_count": 20,
      "outputs": [
        {
          "output_type": "stream",
          "name": "stderr",
          "text": [
            "<ipython-input-20-88b466a5a7ae>:2: SettingWithCopyWarning: \n",
            "A value is trying to be set on a copy of a slice from a DataFrame.\n",
            "Try using .loc[row_indexer,col_indexer] = value instead\n",
            "\n",
            "See the caveats in the documentation: https://pandas.pydata.org/pandas-docs/stable/user_guide/indexing.html#returning-a-view-versus-a-copy\n",
            "  df_main_class['text_lenght'] = df_main_class['Review_Text'].apply(len)\n"
          ]
        }
      ]
    },
    {
      "cell_type": "code",
      "source": [
        "df_main_class[\"Sentiment\"].value_counts()"
      ],
      "metadata": {
        "id": "iwBsoqavSplb",
        "outputId": "ce53872d-1201-4db1-ae4a-c128e430227c",
        "colab": {
          "base_uri": "https://localhost:8080/"
        }
      },
      "execution_count": 21,
      "outputs": [
        {
          "output_type": "execute_result",
          "data": {
            "text/plain": [
              "Positive    33921\n",
              "Neutral      5109\n",
              "Negative     3626\n",
              "Name: Sentiment, dtype: int64"
            ]
          },
          "metadata": {},
          "execution_count": 21
        }
      ]
    },
    {
      "cell_type": "code",
      "source": [
        "df_main_class['Sentiment'] = df_main_class['Sentiment'].map({'Neutral':0, 'Positive':1,\"Negative\":2})"
      ],
      "metadata": {
        "id": "WCvn47I4SsuD",
        "outputId": "ede2279e-c710-4197-8f33-8cee25192a07",
        "colab": {
          "base_uri": "https://localhost:8080/"
        }
      },
      "execution_count": 22,
      "outputs": [
        {
          "output_type": "stream",
          "name": "stderr",
          "text": [
            "<ipython-input-22-f5e06b653368>:1: SettingWithCopyWarning: \n",
            "A value is trying to be set on a copy of a slice from a DataFrame.\n",
            "Try using .loc[row_indexer,col_indexer] = value instead\n",
            "\n",
            "See the caveats in the documentation: https://pandas.pydata.org/pandas-docs/stable/user_guide/indexing.html#returning-a-view-versus-a-copy\n",
            "  df_main_class['Sentiment'] = df_main_class['Sentiment'].map({'Neutral':0, 'Positive':1,\"Negative\":2})\n"
          ]
        }
      ]
    },
    {
      "cell_type": "code",
      "source": [
        "df_main_class[\"Sentiment\"].value_counts()"
      ],
      "metadata": {
        "id": "Y-EygBicSxHL",
        "outputId": "c8e4dd9d-8256-4c59-94de-f9043b9c2a72",
        "colab": {
          "base_uri": "https://localhost:8080/"
        }
      },
      "execution_count": 23,
      "outputs": [
        {
          "output_type": "execute_result",
          "data": {
            "text/plain": [
              "1    33921\n",
              "0     5109\n",
              "2     3626\n",
              "Name: Sentiment, dtype: int64"
            ]
          },
          "metadata": {},
          "execution_count": 23
        }
      ]
    },
    {
      "cell_type": "code",
      "source": [
        "df_main_class.head()"
      ],
      "metadata": {
        "id": "qXNOepJAS1Ej",
        "outputId": "2ab08c08-f1af-4657-b6dc-64428e7de725",
        "colab": {
          "base_uri": "https://localhost:8080/",
          "height": 206
        }
      },
      "execution_count": 24,
      "outputs": [
        {
          "output_type": "execute_result",
          "data": {
            "text/plain": [
              "                                         Review_Text  Sentiment  text_lenght\n",
              "0  If you have ever been to Disneyland anywhere y...          1          330\n",
              "1  Its been a while since d last time we visit HK...          1          975\n",
              "2  Thanks God it wasn t too hot or too humid when...          1          918\n",
              "3  HK Disneyland is a great compact park. Unfortu...          1          485\n",
              "4  the location is not in the city, took around h...          1          159"
            ],
            "text/html": [
              "\n",
              "  <div id=\"df-882fea61-6106-4921-9818-a7618595be1c\">\n",
              "    <div class=\"colab-df-container\">\n",
              "      <div>\n",
              "<style scoped>\n",
              "    .dataframe tbody tr th:only-of-type {\n",
              "        vertical-align: middle;\n",
              "    }\n",
              "\n",
              "    .dataframe tbody tr th {\n",
              "        vertical-align: top;\n",
              "    }\n",
              "\n",
              "    .dataframe thead th {\n",
              "        text-align: right;\n",
              "    }\n",
              "</style>\n",
              "<table border=\"1\" class=\"dataframe\">\n",
              "  <thead>\n",
              "    <tr style=\"text-align: right;\">\n",
              "      <th></th>\n",
              "      <th>Review_Text</th>\n",
              "      <th>Sentiment</th>\n",
              "      <th>text_lenght</th>\n",
              "    </tr>\n",
              "  </thead>\n",
              "  <tbody>\n",
              "    <tr>\n",
              "      <th>0</th>\n",
              "      <td>If you have ever been to Disneyland anywhere y...</td>\n",
              "      <td>1</td>\n",
              "      <td>330</td>\n",
              "    </tr>\n",
              "    <tr>\n",
              "      <th>1</th>\n",
              "      <td>Its been a while since d last time we visit HK...</td>\n",
              "      <td>1</td>\n",
              "      <td>975</td>\n",
              "    </tr>\n",
              "    <tr>\n",
              "      <th>2</th>\n",
              "      <td>Thanks God it wasn t too hot or too humid when...</td>\n",
              "      <td>1</td>\n",
              "      <td>918</td>\n",
              "    </tr>\n",
              "    <tr>\n",
              "      <th>3</th>\n",
              "      <td>HK Disneyland is a great compact park. Unfortu...</td>\n",
              "      <td>1</td>\n",
              "      <td>485</td>\n",
              "    </tr>\n",
              "    <tr>\n",
              "      <th>4</th>\n",
              "      <td>the location is not in the city, took around h...</td>\n",
              "      <td>1</td>\n",
              "      <td>159</td>\n",
              "    </tr>\n",
              "  </tbody>\n",
              "</table>\n",
              "</div>\n",
              "      <button class=\"colab-df-convert\" onclick=\"convertToInteractive('df-882fea61-6106-4921-9818-a7618595be1c')\"\n",
              "              title=\"Convert this dataframe to an interactive table.\"\n",
              "              style=\"display:none;\">\n",
              "        \n",
              "  <svg xmlns=\"http://www.w3.org/2000/svg\" height=\"24px\"viewBox=\"0 0 24 24\"\n",
              "       width=\"24px\">\n",
              "    <path d=\"M0 0h24v24H0V0z\" fill=\"none\"/>\n",
              "    <path d=\"M18.56 5.44l.94 2.06.94-2.06 2.06-.94-2.06-.94-.94-2.06-.94 2.06-2.06.94zm-11 1L8.5 8.5l.94-2.06 2.06-.94-2.06-.94L8.5 2.5l-.94 2.06-2.06.94zm10 10l.94 2.06.94-2.06 2.06-.94-2.06-.94-.94-2.06-.94 2.06-2.06.94z\"/><path d=\"M17.41 7.96l-1.37-1.37c-.4-.4-.92-.59-1.43-.59-.52 0-1.04.2-1.43.59L10.3 9.45l-7.72 7.72c-.78.78-.78 2.05 0 2.83L4 21.41c.39.39.9.59 1.41.59.51 0 1.02-.2 1.41-.59l7.78-7.78 2.81-2.81c.8-.78.8-2.07 0-2.86zM5.41 20L4 18.59l7.72-7.72 1.47 1.35L5.41 20z\"/>\n",
              "  </svg>\n",
              "      </button>\n",
              "      \n",
              "  <style>\n",
              "    .colab-df-container {\n",
              "      display:flex;\n",
              "      flex-wrap:wrap;\n",
              "      gap: 12px;\n",
              "    }\n",
              "\n",
              "    .colab-df-convert {\n",
              "      background-color: #E8F0FE;\n",
              "      border: none;\n",
              "      border-radius: 50%;\n",
              "      cursor: pointer;\n",
              "      display: none;\n",
              "      fill: #1967D2;\n",
              "      height: 32px;\n",
              "      padding: 0 0 0 0;\n",
              "      width: 32px;\n",
              "    }\n",
              "\n",
              "    .colab-df-convert:hover {\n",
              "      background-color: #E2EBFA;\n",
              "      box-shadow: 0px 1px 2px rgba(60, 64, 67, 0.3), 0px 1px 3px 1px rgba(60, 64, 67, 0.15);\n",
              "      fill: #174EA6;\n",
              "    }\n",
              "\n",
              "    [theme=dark] .colab-df-convert {\n",
              "      background-color: #3B4455;\n",
              "      fill: #D2E3FC;\n",
              "    }\n",
              "\n",
              "    [theme=dark] .colab-df-convert:hover {\n",
              "      background-color: #434B5C;\n",
              "      box-shadow: 0px 1px 3px 1px rgba(0, 0, 0, 0.15);\n",
              "      filter: drop-shadow(0px 1px 2px rgba(0, 0, 0, 0.3));\n",
              "      fill: #FFFFFF;\n",
              "    }\n",
              "  </style>\n",
              "\n",
              "      <script>\n",
              "        const buttonEl =\n",
              "          document.querySelector('#df-882fea61-6106-4921-9818-a7618595be1c button.colab-df-convert');\n",
              "        buttonEl.style.display =\n",
              "          google.colab.kernel.accessAllowed ? 'block' : 'none';\n",
              "\n",
              "        async function convertToInteractive(key) {\n",
              "          const element = document.querySelector('#df-882fea61-6106-4921-9818-a7618595be1c');\n",
              "          const dataTable =\n",
              "            await google.colab.kernel.invokeFunction('convertToInteractive',\n",
              "                                                     [key], {});\n",
              "          if (!dataTable) return;\n",
              "\n",
              "          const docLinkHtml = 'Like what you see? Visit the ' +\n",
              "            '<a target=\"_blank\" href=https://colab.research.google.com/notebooks/data_table.ipynb>data table notebook</a>'\n",
              "            + ' to learn more about interactive tables.';\n",
              "          element.innerHTML = '';\n",
              "          dataTable['output_type'] = 'display_data';\n",
              "          await google.colab.output.renderOutput(dataTable, element);\n",
              "          const docLink = document.createElement('div');\n",
              "          docLink.innerHTML = docLinkHtml;\n",
              "          element.appendChild(docLink);\n",
              "        }\n",
              "      </script>\n",
              "    </div>\n",
              "  </div>\n",
              "  "
            ]
          },
          "metadata": {},
          "execution_count": 24
        }
      ]
    },
    {
      "cell_type": "code",
      "source": [
        "X = df_main_class[\"Review_Text\"]\n",
        "Y = df_main_class[\"Sentiment\"]"
      ],
      "metadata": {
        "id": "Tj4xz4PBS7eD"
      },
      "execution_count": 25,
      "outputs": []
    },
    {
      "cell_type": "code",
      "source": [
        "# Train test split\n",
        "from sklearn.model_selection import train_test_split"
      ],
      "metadata": {
        "id": "SZQiNzalTH5M"
      },
      "execution_count": 26,
      "outputs": []
    },
    {
      "cell_type": "code",
      "source": [
        "# Splitting the data into train and test data\n",
        "X_train , X_test , Y_train , Y_test = train_test_split(X,Y, test_size = 0.2,random_state = 43)"
      ],
      "metadata": {
        "id": "3WrzEWmQS_Tz"
      },
      "execution_count": 27,
      "outputs": []
    },
    {
      "cell_type": "code",
      "source": [
        "from keras.utils import to_categorical\n",
        "\n",
        "Y_train = to_categorical(Y_train)\n",
        "Y_test = to_categorical(Y_test)"
      ],
      "metadata": {
        "id": "ptpHCV2DqGsG"
      },
      "execution_count": 43,
      "outputs": []
    },
    {
      "cell_type": "code",
      "source": [
        "Y_train.shape"
      ],
      "metadata": {
        "id": "MGEhTSfFoH7u",
        "outputId": "6d1e472b-295d-436f-8abb-0859e3159f08",
        "colab": {
          "base_uri": "https://localhost:8080/"
        }
      },
      "execution_count": 44,
      "outputs": [
        {
          "output_type": "execute_result",
          "data": {
            "text/plain": [
              "(34124, 3)"
            ]
          },
          "metadata": {},
          "execution_count": 44
        }
      ]
    },
    {
      "cell_type": "code",
      "source": [
        "# Defining pre-processing parameters\n",
        "max_len = 50 \n",
        "trunc_type = 'post'\n",
        "padding_type = 'post'\n",
        "oov_tok = '<OOV>' # out of vocabulary token\n",
        "vocab_size = 500"
      ],
      "metadata": {
        "id": "TxCQZi-3TB_q"
      },
      "execution_count": 45,
      "outputs": []
    },
    {
      "cell_type": "markdown",
      "source": [
        "The Tokenizer API from TensorFlow Keras can split sentences into words and encode them into integers.\n",
        "\n",
        "The Tokenizer will perform all the necessary pre-processing steps:\n",
        "\n",
        "tokenize into word character (word level)\n",
        "num_words for maximum number of unique tokens\n",
        "filter out the punctuation terms\n",
        "convert all words to lower case\n",
        "convert all words to integer index"
      ],
      "metadata": {
        "id": "gnbIC8ZKTcFZ"
      }
    },
    {
      "cell_type": "code",
      "source": [
        "tokenizer = Tokenizer(num_words = vocab_size, \n",
        "                      char_level = False,\n",
        "                      oov_token = oov_tok)\n",
        "tokenizer.fit_on_texts(X_train)"
      ],
      "metadata": {
        "id": "O8ALFtoXTWBD"
      },
      "execution_count": 46,
      "outputs": []
    },
    {
      "cell_type": "markdown",
      "source": [
        "###num_words : how many unique word that we want to load in training and testing data\n",
        "\n",
        "###oov_token : out of vocabulary token will be added to word index in the corpus which is used to build the model. This is used to replace out of vocabulary words (words that are not in our corpus) during text_to_sequence calls."
      ],
      "metadata": {
        "id": "7qnCpDxuTo1r"
      }
    },
    {
      "cell_type": "code",
      "source": [
        "# Get the word_index\n",
        "word_index = tokenizer.word_index\n",
        "total_words = len(word_index)\n",
        "total_words"
      ],
      "metadata": {
        "id": "BMVpfGDhTfqS",
        "outputId": "18164a98-fe26-4e2b-91dc-82cec1871417",
        "colab": {
          "base_uri": "https://localhost:8080/"
        }
      },
      "execution_count": 47,
      "outputs": [
        {
          "output_type": "execute_result",
          "data": {
            "text/plain": [
              "37993"
            ]
          },
          "metadata": {},
          "execution_count": 47
        }
      ]
    },
    {
      "cell_type": "markdown",
      "source": [
        "## Sequence and padding\n",
        "The next step : Let’s represent each sentence by sequences of numbers using texts_to_sequencesfrom Tokenizer object. After that, we padded the sequence so that we can have same length of each sequence."
      ],
      "metadata": {
        "id": "lgRgDxJ3T-G7"
      }
    },
    {
      "cell_type": "markdown",
      "source": [
        "# for data train "
      ],
      "metadata": {
        "id": "hoZ7VJEeUKTV"
      }
    },
    {
      "cell_type": "code",
      "source": [
        "training_sequences = tokenizer.texts_to_sequences(X_train)\n",
        "training_padded = pad_sequences(training_sequences,\n",
        "                                maxlen = max_len,\n",
        "                                padding = padding_type,\n",
        "                                truncating = trunc_type)"
      ],
      "metadata": {
        "id": "hgBVkqfeUCq7"
      },
      "execution_count": 48,
      "outputs": []
    },
    {
      "cell_type": "markdown",
      "source": [
        "# For Data test "
      ],
      "metadata": {
        "id": "bUoMJQbHUOfM"
      }
    },
    {
      "cell_type": "code",
      "source": [
        "testing_sequences = tokenizer.texts_to_sequences(X_test)\n",
        "testing_padded = pad_sequences(testing_sequences,\n",
        "                               maxlen = max_len,\n",
        "                               padding = padding_type,\n",
        "                               truncating = trunc_type)"
      ],
      "metadata": {
        "id": "gfH75ZvMUCo0"
      },
      "execution_count": 49,
      "outputs": []
    },
    {
      "cell_type": "markdown",
      "source": [
        "**padding** : ‘pre’ or ‘post (default pre). By using pre, we’ll pad before each sequence and post will pad after each sequence.\n",
        "\n",
        "**maxlen** : maximum length of all sequences. If not provided, by default it will use the maximum length of the longest sentence.\n",
        "\n",
        "**truncating** : ‘pre’ or ‘post’ (default ‘pre’). If a sequence length is larger than the provided maxlen value then, these values will be truncated to maxlen. ‘pre’ option will truncate at the beginning where as ‘post’ will truncate at the end of the sequences."
      ],
      "metadata": {
        "id": "2v_Mc2WXUebW"
      }
    },
    {
      "cell_type": "markdown",
      "source": [
        "The shape of training and testing padded (tensor):"
      ],
      "metadata": {
        "id": "zJW0Fi9wUrI_"
      }
    },
    {
      "cell_type": "code",
      "source": [
        "print('Shape of training tensor: ', training_padded.shape)\n",
        "print('Shape of testing tensor: ', testing_padded.shape)"
      ],
      "metadata": {
        "id": "HgixW803UCk8",
        "outputId": "4953a91a-0ecf-4c88-bb5f-823a6bc2515b",
        "colab": {
          "base_uri": "https://localhost:8080/"
        }
      },
      "execution_count": 50,
      "outputs": [
        {
          "output_type": "stream",
          "name": "stdout",
          "text": [
            "Shape of training tensor:  (34124, 50)\n",
            "Shape of testing tensor:  (8532, 50)\n"
          ]
        }
      ]
    },
    {
      "cell_type": "code",
      "source": [
        "# Define the model architecture and train the model"
      ],
      "metadata": {
        "id": "BiDRvNqtUCiM"
      },
      "execution_count": 51,
      "outputs": []
    },
    {
      "cell_type": "markdown",
      "source": [
        "# LSTM model "
      ],
      "metadata": {
        "id": "gcAYtWzrYUiV"
      }
    },
    {
      "cell_type": "code",
      "source": [
        "# Define parameter\n",
        "n_lstm = 200\n",
        "drop_lstm = 0.2\n",
        "embedding_dim =16\n",
        "# Define LSTM Model \n",
        "model1 = Sequential()\n",
        "model1.add(Embedding(vocab_size, embedding_dim, input_length=max_len))\n",
        "model1.add(SpatialDropout1D(drop_lstm))\n",
        "model1.add(LSTM(n_lstm, return_sequences=False))\n",
        "model1.add(Dropout(drop_lstm))\n",
        "model1.add(Dense(3, activation='softmax'))"
      ],
      "metadata": {
        "id": "z-8hDIU5YSul"
      },
      "execution_count": 52,
      "outputs": []
    },
    {
      "cell_type": "markdown",
      "source": [
        "Sequential calls for Keras sequential model in which layer added in a sequence. The embedding layer maps each word to a N-dimensional vector of real numbers. The embedding_dim is the size of the word_vector , in this case we use 16. Because the embedding layer is the first hidden layer in our model, we need to set our input layer as defined by the input_length = max_len\n",
        "\n",
        "Next, we use the GlobalAveragePooling1D as the pooling layer, which helps to reduce the number of parameters in the model and to avoid overfitting."
      ],
      "metadata": {
        "id": "snCIvTBHWYZT"
      }
    },
    {
      "cell_type": "code",
      "source": [
        "model1.summary()"
      ],
      "metadata": {
        "id": "JOtNNcgFUCc3",
        "outputId": "2a057795-0ae0-469f-a751-61496079cef7",
        "colab": {
          "base_uri": "https://localhost:8080/"
        }
      },
      "execution_count": 53,
      "outputs": [
        {
          "output_type": "stream",
          "name": "stdout",
          "text": [
            "Model: \"sequential_2\"\n",
            "_________________________________________________________________\n",
            " Layer (type)                Output Shape              Param #   \n",
            "=================================================================\n",
            " embedding_1 (Embedding)     (None, 50, 16)            8000      \n",
            "                                                                 \n",
            " spatial_dropout1d_1 (Spatia  (None, 50, 16)           0         \n",
            " lDropout1D)                                                     \n",
            "                                                                 \n",
            " lstm_1 (LSTM)               (None, 200)               173600    \n",
            "                                                                 \n",
            " dropout_1 (Dropout)         (None, 200)               0         \n",
            "                                                                 \n",
            " dense_1 (Dense)             (None, 3)                 603       \n",
            "                                                                 \n",
            "=================================================================\n",
            "Total params: 182,203\n",
            "Trainable params: 182,203\n",
            "Non-trainable params: 0\n",
            "_________________________________________________________________\n"
          ]
        }
      ]
    },
    {
      "cell_type": "markdown",
      "source": [
        "Compile the model:"
      ],
      "metadata": {
        "id": "xCBZ6aHJWjf_"
      }
    },
    {
      "cell_type": "code",
      "source": [
        "# Compile the model\n",
        "model1.compile(loss='categorical_crossentropy', optimizer='adam', metrics=['accuracy'])"
      ],
      "metadata": {
        "id": "RuCPUluNUCSb"
      },
      "execution_count": 54,
      "outputs": []
    },
    {
      "cell_type": "markdown",
      "source": [
        "# Train the model "
      ],
      "metadata": {
        "id": "0YINeMzvW6BC"
      }
    },
    {
      "cell_type": "code",
      "source": [
        "num_epochs = 30\n",
        "early_stop = EarlyStopping(monitor='val_loss', patience=2)\n",
        "history = model1.fit(training_padded,\n",
        "                     Y_train,\n",
        "                     epochs=num_epochs, \n",
        "                     validation_data=(testing_padded, Y_test),\n",
        "                     callbacks =[early_stop],\n",
        "                     verbose=2)"
      ],
      "metadata": {
        "colab": {
          "base_uri": "https://localhost:8080/"
        },
        "id": "8Yw8eIW0Y5eu",
        "outputId": "ecec21d2-8187-493a-955b-d57f8be5e4c1"
      },
      "execution_count": 55,
      "outputs": [
        {
          "output_type": "stream",
          "name": "stdout",
          "text": [
            "Epoch 1/30\n",
            "1067/1067 - 29s - loss: 0.5629 - accuracy: 0.8011 - val_loss: 0.5211 - val_accuracy: 0.8046 - 29s/epoch - 27ms/step\n",
            "Epoch 2/30\n",
            "1067/1067 - 7s - loss: 0.5173 - accuracy: 0.8069 - val_loss: 0.5382 - val_accuracy: 0.7924 - 7s/epoch - 7ms/step\n",
            "Epoch 3/30\n",
            "1067/1067 - 8s - loss: 0.5114 - accuracy: 0.8072 - val_loss: 0.5064 - val_accuracy: 0.8086 - 8s/epoch - 8ms/step\n",
            "Epoch 4/30\n",
            "1067/1067 - 8s - loss: 0.5048 - accuracy: 0.8099 - val_loss: 0.5130 - val_accuracy: 0.8068 - 8s/epoch - 7ms/step\n",
            "Epoch 5/30\n",
            "1067/1067 - 7s - loss: 0.4992 - accuracy: 0.8107 - val_loss: 0.5153 - val_accuracy: 0.8034 - 7s/epoch - 6ms/step\n"
          ]
        }
      ]
    },
    {
      "cell_type": "code",
      "source": [
        "import matplotlib.pyplot as plt"
      ],
      "metadata": {
        "id": "y-kWc5jRriLN"
      },
      "execution_count": 57,
      "outputs": []
    },
    {
      "cell_type": "code",
      "source": [
        "# summarize history for accuracy\n",
        "\n",
        "plt.plot(history.history['accuracy'])\n",
        "plt.plot(history.history['val_accuracy'])\n",
        "plt.title('model accuracy')\n",
        "plt.ylabel('accuracy')\n",
        "plt.xlabel('epoch')\n",
        "plt.legend(['train', 'validation'], loc='upper left')\n",
        "plt.show()\n"
      ],
      "metadata": {
        "id": "eEBvPiO9rdsP",
        "outputId": "6a29198c-8917-4fc3-ce77-5bc740580965",
        "colab": {
          "base_uri": "https://localhost:8080/",
          "height": 295
        }
      },
      "execution_count": 59,
      "outputs": [
        {
          "output_type": "display_data",
          "data": {
            "text/plain": [
              "<Figure size 432x288 with 1 Axes>"
            ],
            "image/png": "[encoded data removed]"
          },
          "metadata": {
            "needs_background": "light"
          }
        }
      ]
    },
    {
      "cell_type": "code",
      "source": [
        "# summarize history for loss\n",
        "plt.plot(history.history['loss'])\n",
        "plt.plot(history.history['val_loss'])\n",
        "plt.title('model loss')\n",
        "plt.ylabel('loss')\n",
        "plt.xlabel('epoch')\n",
        "plt.legend(['train', 'validation'], loc='upper left')\n",
        "plt.show()"
      ],
      "metadata": {
        "id": "rlJ3NnnTrwBA",
        "outputId": "5525baef-bd3c-40fd-b7b9-3029f83c5e95",
        "colab": {
          "base_uri": "https://localhost:8080/",
          "height": 295
        }
      },
      "execution_count": 60,
      "outputs": [
        {
          "output_type": "display_data",
          "data": {
            "text/plain": [
              "<Figure size 432x288 with 1 Axes>"
            ],
            "image/png": "[encoded data removed]"
          },
          "metadata": {
            "needs_background": "light"
          }
        }
      ]
    },
    {
      "cell_type": "code",
      "source": [],
      "metadata": {
        "id": "FKKWIRogwYVi"
      },
      "execution_count": null,
      "outputs": []
    }
  ]
}